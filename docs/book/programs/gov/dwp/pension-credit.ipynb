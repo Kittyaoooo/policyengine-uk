{
 "cells": [
  {
   "cell_type": "markdown",
   "id": "8d07409a",
   "metadata": {},
   "source": [
    "# Pension Credit\n",
    "\n",
    "Pension Credit is a means-tested benefit payment administered by the Department for Work and Pensions (DWP) in the United Kingdom. It was introduced to provide financial assistance to pensioners and ensure they have a minimum income level. Pension Credit combines two main elements: Guarantee Credit and Savings Credit.\n",
    "\n",
    "* Guarantee Credit: Intended for pensioners who have reached the qualifying age and have a low income. It tops up \n",
    "  their weekly income to a guaranteed minimum level, which varies based on individual circumstances.\n",
    "* Savings Credit: Designed for pensioners who have saved for their retirement or have a modest income. It provides \n",
    "  additional support to those who have some savings or a second pension.\n",
    "\n",
    "\n",
    "Pension Credit parameters can be found in `policyengine_uk/parameters/gov/dwp/pension_credit` and logic in `policyengine_uk/variables/dwp/pension_credit.py`.\n",
    "\n",
    "## Legislation\n",
    "\n",
    "The legal framework for Guarantee Credit is primarily defined in the legislation provided on the [The State Pension Credit Regulations 2002](https://www.legislation.gov.uk/uksi/2002/1792/regulation/6) legislation website. \n",
    "The legal framework for Savings Credit is primarily defined in the legislation provided on the [State Pension Credit Act 2002](https://www.legislation.gov.uk/ukpga/2002/16/section/3) legislation website. \n",
    "\n",
    "## Pension Credit Rate Changes\n",
    "\n",
    "Guarantee Credit, a fundamental component of Pension Credit in the United Kingdom, comprises various elements aimed at providing financial support to pensioners in different circumstances. Some key components of Guarantee Credit include:\n",
    "\n",
    "* Additional Minimum Guarantee\n",
    "* Carer addition\n",
    "* Child-related addition\n",
    "* Disabled-child minimum guarantee\n",
    "* Severe disabled-child minimum guarantee\n",
    "* Severe disabled-adult minimum guarantee\n",
    "\n",
    "Savings Credit is an essential element of Pension Credit in the United Kingdom, designed to provide additional financial support to pensioners who have savings or a modest income. This component includes the following key elements:\n",
    "\n",
    "* Pension credit savings credit income threshold (couple)\n",
    "* Pension credit savings credit income threshold (single)\n",
    "* Savings Threshold\n",
    "\n",
    "The table below shows some of the rates covered by PolicyEngine-UK. "
   ]
  },
  {
   "cell_type": "code",
   "execution_count": 1,
   "id": "dbb3de6d",
   "metadata": {},
   "outputs": [
    {
     "ename": "NameError",
     "evalue": "name 'carer_addtion' is not defined",
     "output_type": "error",
     "traceback": [
      "\u001b[0;31m---------------------------------------------------------------------------\u001b[0m",
      "\u001b[0;31mNameError\u001b[0m                                 Traceback (most recent call last)",
      "Input \u001b[0;32mIn [1]\u001b[0m, in \u001b[0;36m<cell line: 12>\u001b[0;34m()\u001b[0m\n\u001b[1;32m      8\u001b[0m severe_disabled_child \u001b[38;5;241m=\u001b[39m parameters\u001b[38;5;241m.\u001b[39mgov\u001b[38;5;241m.\u001b[39mdwp\u001b[38;5;241m.\u001b[39mpension_credit\u001b[38;5;241m.\u001b[39mguarantee_credit\u001b[38;5;241m.\u001b[39mchild\u001b[38;5;241m.\u001b[39mdisability\u001b[38;5;241m.\u001b[39msevere\u001b[38;5;241m.\u001b[39maddition\n\u001b[1;32m      9\u001b[0m severe_disabled \u001b[38;5;241m=\u001b[39m parameters\u001b[38;5;241m.\u001b[39mgov\u001b[38;5;241m.\u001b[39mdwp\u001b[38;5;241m.\u001b[39mpension_credit\u001b[38;5;241m.\u001b[39mguarantee_credit\u001b[38;5;241m.\u001b[39msevere_disability\u001b[38;5;241m.\u001b[39maddition\n\u001b[0;32m---> 12\u001b[0m pension_creidit \u001b[38;5;241m=\u001b[39m [\u001b[43mcarer_addtion\u001b[49m, child_addition, disabled_child_addition, severe_disabled_child_addition, severe_disabled_addition] \u001b[38;5;66;03m# [...]\u001b[39;00m\n\u001b[1;32m     14\u001b[0m dates \u001b[38;5;241m=\u001b[39m [\u001b[38;5;124m\"\u001b[39m\u001b[38;5;124m2019-01-01\u001b[39m\u001b[38;5;124m\"\u001b[39m,\u001b[38;5;124m\"\u001b[39m\u001b[38;5;124m2020-01-01\u001b[39m\u001b[38;5;124m\"\u001b[39m, \u001b[38;5;124m\"\u001b[39m\u001b[38;5;124m2021-01-01\u001b[39m\u001b[38;5;124m\"\u001b[39m, \u001b[38;5;124m\"\u001b[39m\u001b[38;5;124m2022-01-01\u001b[39m\u001b[38;5;124m\"\u001b[39m, \u001b[38;5;124m\"\u001b[39m\u001b[38;5;124m2023-01-01\u001b[39m\u001b[38;5;124m\"\u001b[39m, \u001b[38;5;124m\"\u001b[39m\u001b[38;5;124m2024-01-01\u001b[39m\u001b[38;5;124m\"\u001b[39m]\n\u001b[1;32m     15\u001b[0m names \u001b[38;5;241m=\u001b[39m [\u001b[38;5;124m\"\u001b[39m\u001b[38;5;124mCarer\u001b[39m\u001b[38;5;124m\"\u001b[39m, \u001b[38;5;124m\"\u001b[39m\u001b[38;5;124mChild\u001b[39m\u001b[38;5;124m\"\u001b[39m, \u001b[38;5;124m\"\u001b[39m\u001b[38;5;124mDisabled child\u001b[39m\u001b[38;5;124m\"\u001b[39m, \u001b[38;5;124m\"\u001b[39m\u001b[38;5;124mSevere disabled child\u001b[39m\u001b[38;5;124m\"\u001b[39m, \u001b[38;5;124m\"\u001b[39m\u001b[38;5;124mSevere disabled adult\u001b[39m\u001b[38;5;124m\"\u001b[39m]\n",
      "\u001b[0;31mNameError\u001b[0m: name 'carer_addtion' is not defined"
     ]
    }
   ],
   "source": [
    "from policyengine_uk.system import system\n",
    "\n",
    "parameters = system.parameters\n",
    "\n",
    "carer_addition = parameters.gov.dwp.pension_credit.guarantee_credit.carer.addition\n",
    "child_addition = parameters.gov.dwp.pension_credit.guarantee_credit.child.addition\n",
    "disabled_child = parameters.gov.dwp.pension_credit.guarantee_credit.child.disability.addition\n",
    "severe_disabled_child = parameters.gov.dwp.pension_credit.guarantee_credit.child.disability.severe.addition\n",
    "severe_disabled = parameters.gov.dwp.pension_credit.guarantee_credit.severe_disability.addition\n",
    "\n",
    "\n",
    "pension_creidit = [carer_addtion, child_addition, disabled_child_addition, severe_disabled_child_addition, severe_disabled_addition] # [...]\n",
    "\n",
    "dates = [\"2019-01-01\",\"2020-01-01\", \"2021-01-01\", \"2022-01-01\", \"2023-01-01\", \"2024-01-01\"]\n",
    "names = [\"Carer\", \"Child\", \"Disabled child\", \"Severe disabled child\", \"Severe disabled adult\"]\n",
    "\n",
    "import pandas as pd\n",
    "\n",
    "df = pd.DataFrame()\n",
    "\n",
    "for date in dates:\n",
    "    for element, name in zip(elements, names):\n",
    "        # Append to a dataframe: row = date, column = element, value = amount\n",
    "        new_row = {\n",
    "            \"date\": date,\n",
    "            \"pension_credit\": name,\n",
    "            \"amount\": pension_credit(date)\n",
    "        }\n",
    "         # Append row to the dataframe\n",
    "        df = pd.concat([df, pd.DataFrame([new_row])])\n",
    "\n",
    "\n",
    "# merge element cells\n",
    "pivot_df = df.pivot(index=\"date\", columns=\"pension_credit\", values=\"amount\")\n",
    "pivot_df.fillna(\"\")\n"
   ]
  },
  {
   "cell_type": "code",
   "execution_count": null,
   "id": "039ea8ce",
   "metadata": {},
   "outputs": [],
   "source": []
  }
 ],
 "metadata": {
  "kernelspec": {
   "display_name": "Python 3 (ipykernel)",
   "language": "python",
   "name": "python3"
  },
  "language_info": {
   "codemirror_mode": {
    "name": "ipython",
    "version": 3
   },
   "file_extension": ".py",
   "mimetype": "text/x-python",
   "name": "python",
   "nbconvert_exporter": "python",
   "pygments_lexer": "ipython3",
   "version": "3.8.8"
  }
 },
 "nbformat": 4,
 "nbformat_minor": 5
}
